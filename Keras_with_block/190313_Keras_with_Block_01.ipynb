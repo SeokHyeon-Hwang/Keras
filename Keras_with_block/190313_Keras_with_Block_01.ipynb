{
  "nbformat": 4,
  "nbformat_minor": 0,
  "metadata": {
    "colab": {
      "name": "190313_Keras_with_Block_01.ipynb",
      "version": "0.3.2",
      "provenance": [],
      "collapsed_sections": []
    },
    "kernelspec": {
      "name": "python3",
      "display_name": "Python 3"
    }
  },
  "cells": [
    {
      "metadata": {
        "id": "hDB6RcuKlUT3",
        "colab_type": "code",
        "outputId": "0fe4c3e4-9775-453b-b43d-f17d2174fe4b",
        "colab": {
          "base_uri": "https://localhost:8080/",
          "height": 35
        }
      },
      "cell_type": "code",
      "source": [
        "from keras.utils import np_utils\n",
        "from keras.datasets import mnist\n",
        "from keras.models import Sequential\n",
        "from keras.layers import Dense, Activation\n",
        "import numpy as np\n",
        "\n",
        "np.random.seed(1)"
      ],
      "execution_count": 1,
      "outputs": [
        {
          "output_type": "stream",
          "text": [
            "Using TensorFlow backend.\n"
          ],
          "name": "stderr"
        }
      ]
    },
    {
      "metadata": {
        "id": "6kp5ASPY5F5r",
        "colab_type": "text"
      },
      "cell_type": "markdown",
      "source": [
        "### 1. 데이터셋 준비"
      ]
    },
    {
      "metadata": {
        "id": "coNU23IS5Us-",
        "colab_type": "code",
        "colab": {}
      },
      "cell_type": "code",
      "source": [
        "# 훈련셋과 시험셋 로딩\n",
        "(X_train, Y_train), (X_test, Y_test) = mnist.load_data()"
      ],
      "execution_count": 0,
      "outputs": []
    },
    {
      "metadata": {
        "id": "w-nDsOnv5h_4",
        "colab_type": "code",
        "outputId": "74a8d1b2-e2a7-4dfd-f26a-9192f32416b0",
        "colab": {
          "base_uri": "https://localhost:8080/",
          "height": 35
        }
      },
      "cell_type": "code",
      "source": [
        "print(X_train.shape, Y_train.shape, X_test.shape, Y_test.shape)"
      ],
      "execution_count": 3,
      "outputs": [
        {
          "output_type": "stream",
          "text": [
            "(60000, 28, 28) (60000,) (10000, 28, 28) (10000,)\n"
          ],
          "name": "stdout"
        }
      ]
    },
    {
      "metadata": {
        "id": "587crm9L5r2d",
        "colab_type": "code",
        "outputId": "6c72ac18-9d02-4400-8557-447af8b7f53e",
        "colab": {
          "base_uri": "https://localhost:8080/",
          "height": 35
        }
      },
      "cell_type": "code",
      "source": [
        "# 훈련셋과 검증셋 분리\n",
        "X_val = X_train[50000:]\n",
        "Y_val = Y_train[50000:]\n",
        "X_train = X_train[:50000]\n",
        "Y_train = Y_train[:50000]\n",
        "\n",
        "print(X_val.shape, Y_val.shape, X_train.shape, Y_train.shape)"
      ],
      "execution_count": 4,
      "outputs": [
        {
          "output_type": "stream",
          "text": [
            "(10000, 28, 28) (10000,) (50000, 28, 28) (50000,)\n"
          ],
          "name": "stdout"
        }
      ]
    },
    {
      "metadata": {
        "id": "7vhfKZQx6K9i",
        "colab_type": "code",
        "outputId": "dcbbad66-c61a-4649-a6d6-248f3067a2d1",
        "colab": {
          "base_uri": "https://localhost:8080/",
          "height": 35
        }
      },
      "cell_type": "code",
      "source": [
        "X_train = X_train.reshape(50000, 28*28).astype('float32')/255.0\n",
        "X_val = X_val.reshape(10000, 28*28).astype('float32')/255.0\n",
        "X_test = X_test.reshape(10000, 28*28).astype('float32')/255.0\n",
        "\n",
        "print(X_train.shape, X_val.shape, X_test.shape)"
      ],
      "execution_count": 5,
      "outputs": [
        {
          "output_type": "stream",
          "text": [
            "(50000, 784) (10000, 784) (10000, 784)\n"
          ],
          "name": "stdout"
        }
      ]
    },
    {
      "metadata": {
        "id": "6d-vNYcx6zVo",
        "colab_type": "code",
        "colab": {}
      },
      "cell_type": "code",
      "source": [
        "# 훈련셋, 검증셋 고르기\n",
        "train_rand_idxs = np.random.choice(50000, 700)\n",
        "val_rand_idxs = np.random.choice(10000, 300)\n",
        "\n",
        "X_train = X_train[train_rand_idxs]\n",
        "Y_train = Y_train[train_rand_idxs]\n",
        "X_val = X_val[val_rand_idxs]\n",
        "Y_val = Y_val[val_rand_idxs]"
      ],
      "execution_count": 0,
      "outputs": []
    },
    {
      "metadata": {
        "id": "X-nbIm_l7SD2",
        "colab_type": "code",
        "outputId": "7ae8a090-d3ae-4b53-9f24-2c38c8d98644",
        "colab": {
          "base_uri": "https://localhost:8080/",
          "height": 35
        }
      },
      "cell_type": "code",
      "source": [
        "print(X_train.shape, Y_train.shape, X_val.shape, Y_val.shape)"
      ],
      "execution_count": 7,
      "outputs": [
        {
          "output_type": "stream",
          "text": [
            "(700, 784) (700,) (300, 784) (300,)\n"
          ],
          "name": "stdout"
        }
      ]
    },
    {
      "metadata": {
        "id": "uj6pZuwZ7XH4",
        "colab_type": "code",
        "colab": {}
      },
      "cell_type": "code",
      "source": [
        "# 라벨링 전환\n",
        "Y_train = np_utils.to_categorical(Y_train)\n",
        "Y_val = np_utils.to_categorical(Y_val)\n",
        "Y_test = np_utils.to_categorical(Y_test)"
      ],
      "execution_count": 0,
      "outputs": []
    },
    {
      "metadata": {
        "id": "60niAHlr73Tt",
        "colab_type": "code",
        "outputId": "d62cebac-7061-43ce-dc2e-d308f182c7b6",
        "colab": {
          "base_uri": "https://localhost:8080/",
          "height": 35
        }
      },
      "cell_type": "code",
      "source": [
        "print(Y_train.shape, Y_val.shape, Y_test.shape)"
      ],
      "execution_count": 9,
      "outputs": [
        {
          "output_type": "stream",
          "text": [
            "(700, 10) (300, 10) (10000, 10)\n"
          ],
          "name": "stdout"
        }
      ]
    },
    {
      "metadata": {
        "id": "0m00SsnY786o",
        "colab_type": "text"
      },
      "cell_type": "markdown",
      "source": [
        "### 2. 모델 구성하기"
      ]
    },
    {
      "metadata": {
        "id": "d1dApXLZ8Gjw",
        "colab_type": "code",
        "colab": {}
      },
      "cell_type": "code",
      "source": [
        "model = Sequential()\n",
        "model.add(Dense(units=2, input_dim=28*28, activation='relu'))\n",
        "model.add(Dense(units=10, activation='softmax'))"
      ],
      "execution_count": 0,
      "outputs": []
    },
    {
      "metadata": {
        "id": "puB1fn7k8p8N",
        "colab_type": "text"
      },
      "cell_type": "markdown",
      "source": [
        "### 3. 모델 엮기"
      ]
    },
    {
      "metadata": {
        "id": "va62vfvR8wqU",
        "colab_type": "code",
        "colab": {}
      },
      "cell_type": "code",
      "source": [
        "model.compile(loss='categorical_crossentropy', optimizer='sgd', metrics=['accuracy'])"
      ],
      "execution_count": 0,
      "outputs": []
    },
    {
      "metadata": {
        "id": "Z3cJLTgW9GE_",
        "colab_type": "text"
      },
      "cell_type": "markdown",
      "source": [
        "### 4. 모델 학습시키기"
      ]
    },
    {
      "metadata": {
        "id": "wQnjmbB6JTmg",
        "colab_type": "code",
        "colab": {}
      },
      "cell_type": "code",
      "source": [
        "import time\n",
        "def nowtime(past):\n",
        "  now = time.time()\n",
        "  print('period[second]:{}'.format(now-past))\n",
        "  return now\n",
        "\n",
        "pasttime=0"
      ],
      "execution_count": 0,
      "outputs": []
    },
    {
      "metadata": {
        "id": "Hkirb9Kw9IaV",
        "colab_type": "code",
        "colab": {}
      },
      "cell_type": "code",
      "source": [
        "pasttime=time.time()\n",
        "hist = model.fit(X_train, Y_train, epochs=300, batch_size=10, validation_data=(X_val, Y_val))\n",
        "print(nowtime(pasttime))"
      ],
      "execution_count": 0,
      "outputs": []
    },
    {
      "metadata": {
        "id": "gV2ryVpT9UWf",
        "colab_type": "text"
      },
      "cell_type": "markdown",
      "source": [
        "### 5. 모델 학습 과정 표시 "
      ]
    },
    {
      "metadata": {
        "id": "WcWfmWEI-rwu",
        "colab_type": "code",
        "outputId": "d30ee93c-633a-4aca-ef5a-eea27972a6ee",
        "colab": {
          "base_uri": "https://localhost:8080/",
          "height": 279
        }
      },
      "cell_type": "code",
      "source": [
        "%matplotlib inline\n",
        "import matplotlib.pyplot as plt\n",
        "\n",
        "fig, loss_ax = plt.subplots()\n",
        "\n",
        "acc_ax = loss_ax.twinx()\n",
        "\n",
        "loss_ax.plot(hist.history['loss'], 'y', label='train loss')\n",
        "loss_ax.plot(hist.history['val_loss'], 'r', label='val loss')\n",
        "\n",
        "acc_ax.plot(hist.history['acc'], 'b', label='train acc')\n",
        "acc_ax.plot(hist.history['val_acc'], 'g', label='val acc')\n",
        "\n",
        "loss_ax.set_xlabel('epoch')\n",
        "loss_ax.set_ylabel('loss')\n",
        "acc_ax.set_ylabel('accuracy')\n",
        "\n",
        "loss_ax.legend(loc='upper left')\n",
        "acc_ax.legend(loc='lower left')\n",
        "\n",
        "plt.show()"
      ],
      "execution_count": 23,
      "outputs": [
        {
          "output_type": "display_data",
          "data": {
            "image/png": "[encoded data removed]",
            "text/plain": [
              "<Figure size 432x288 with 2 Axes>"
            ]
          },
          "metadata": {
            "tags": []
          }
        }
      ]
    },
    {
      "metadata": {
        "id": "svPPJqWcEoLQ",
        "colab_type": "text"
      },
      "cell_type": "markdown",
      "source": [
        "### 6. 모델 사용하기"
      ]
    },
    {
      "metadata": {
        "id": "PJS261_MHzKh",
        "colab_type": "code",
        "outputId": "573ae9cd-3f5c-48db-9328-65330f726ebd",
        "colab": {
          "base_uri": "https://localhost:8080/",
          "height": 89
        }
      },
      "cell_type": "code",
      "source": [
        "loss_and_metrics = model.evaluate(X_test, Y_test, batch_size=32)\n",
        "\n",
        "print('')\n",
        "print('loss : ' + str(loss_and_metrics[0]))\n",
        "print('accuracy : ' + str(loss_and_metrics[1]))"
      ],
      "execution_count": 24,
      "outputs": [
        {
          "output_type": "stream",
          "text": [
            "10000/10000 [==============================] - 0s 18us/step\n",
            "\n",
            "loss : 1.4396720204353333\n",
            "accuracy : 0.5248\n"
          ],
          "name": "stdout"
        }
      ]
    },
    {
      "metadata": {
        "id": "s0iXYPDhIHns",
        "colab_type": "text"
      },
      "cell_type": "markdown",
      "source": [
        "## 조기 종료 시키기"
      ]
    },
    {
      "metadata": {
        "id": "oCkzIwKRIsRS",
        "colab_type": "code",
        "colab": {}
      },
      "cell_type": "code",
      "source": [
        "from keras.callbacks import EarlyStopping"
      ],
      "execution_count": 0,
      "outputs": []
    },
    {
      "metadata": {
        "id": "irbGA6FOIRIJ",
        "colab_type": "code",
        "colab": {}
      },
      "cell_type": "code",
      "source": [
        "early_stopping = EarlyStopping()\n",
        "pasttime=time.time()\n",
        "hist = model.fit(X_train, Y_train, nb_epoch = 1000, callbacks=[early_stopping], validation_data=(X_val, Y_val))\n",
        "print(nowtime(pasttime))"
      ],
      "execution_count": 0,
      "outputs": []
    },
    {
      "metadata": {
        "id": "DfLCFOp1Kdvq",
        "colab_type": "text"
      },
      "cell_type": "markdown",
      "source": [
        "### 6. 모델 사용하기"
      ]
    },
    {
      "metadata": {
        "id": "khi_n8RVKOjJ",
        "colab_type": "code",
        "outputId": "e9db342e-c2fa-4dc2-94c1-8f3814901fd2",
        "colab": {
          "base_uri": "https://localhost:8080/",
          "height": 89
        }
      },
      "cell_type": "code",
      "source": [
        "loss_and_metrics = model.evaluate(X_test, Y_test, batch_size=32)\n",
        "\n",
        "print('')\n",
        "print('loss : ' + str(loss_and_metrics[0]))\n",
        "print('accuracy : ' + str(loss_and_metrics[1]))"
      ],
      "execution_count": 18,
      "outputs": [
        {
          "output_type": "stream",
          "text": [
            "10000/10000 [==============================] - 0s 15us/step\n",
            "\n",
            "loss : 1.3481858625411987\n",
            "accuracy : 0.5259\n"
          ],
          "name": "stdout"
        }
      ]
    },
    {
      "metadata": {
        "id": "cRPvRypEJtqL",
        "colab_type": "text"
      },
      "cell_type": "markdown",
      "source": [
        "### 5. 모델 학습 과정 표시"
      ]
    },
    {
      "metadata": {
        "id": "v3d-bgHPKmpd",
        "colab_type": "code",
        "outputId": "b92eb25c-ad19-4d11-b78d-b5d6c410b2a0",
        "colab": {
          "base_uri": "https://localhost:8080/",
          "height": 279
        }
      },
      "cell_type": "code",
      "source": [
        "%matplotlib inline\n",
        "import matplotlib.pyplot as plt\n",
        "\n",
        "fig, loss_ax = plt.subplots()\n",
        "\n",
        "acc_ax = loss_ax.twinx()\n",
        "\n",
        "loss_ax.plot(hist.history['loss'], 'y', label='train loss')\n",
        "loss_ax.plot(hist.history['val_loss'], 'r', label='val loss')\n",
        "\n",
        "acc_ax.plot(hist.history['acc'], 'b', label='train acc')\n",
        "acc_ax.plot(hist.history['val_acc'], 'g', label='val acc')\n",
        "\n",
        "loss_ax.set_xlabel('epoch')\n",
        "loss_ax.set_ylabel('loss')\n",
        "acc_ax.set_ylabel('accuracy')\n",
        "\n",
        "loss_ax.legend(loc='upper left')\n",
        "acc_ax.legend(loc='lower left')\n",
        "\n",
        "plt.show()"
      ],
      "execution_count": 16,
      "outputs": [
        {
          "output_type": "display_data",
          "data": {
            "image/png": "[encoded data removed]",
            "text/plain": [
              "<Figure size 432x288 with 2 Axes>"
            ]
          },
          "metadata": {
            "tags": []
          }
        }
      ]
    },
    {
      "metadata": {
        "id": "vzgvn_lyLb8N",
        "colab_type": "code",
        "outputId": "e52b0ba1-668d-433b-f67b-a2fee13b5f96",
        "colab": {
          "base_uri": "https://localhost:8080/",
          "height": 35
        }
      },
      "cell_type": "code",
      "source": [
        "print(len(hist.history['loss']))"
      ],
      "execution_count": 17,
      "outputs": [
        {
          "output_type": "stream",
          "text": [
            "203\n"
          ],
          "name": "stdout"
        }
      ]
    },
    {
      "metadata": {
        "id": "JMRG9T_kREuD",
        "colab_type": "code",
        "colab": {}
      },
      "cell_type": "code",
      "source": [
        ""
      ],
      "execution_count": 0,
      "outputs": []
    }
  ]
}